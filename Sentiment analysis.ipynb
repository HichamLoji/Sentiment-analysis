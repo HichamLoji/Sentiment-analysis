{
 "cells": [
  {
   "cell_type": "markdown",
   "id": "27a6ed44",
   "metadata": {},
   "source": [
    "# Installing and Importing Dependencies"
   ]
  },
  {
   "cell_type": "code",
   "execution_count": null,
   "id": "15af0259",
   "metadata": {
    "scrolled": true,
    "is_executing": true
   },
   "outputs": [],
   "source": [
    "# MPS acceleration is available on MacOS 12.3+\n",
    "#!pip3 install torch torchvision torchaudio"
   ]
  },
  {
   "cell_type": "code",
   "execution_count": null,
   "id": "65a4da0c",
   "metadata": {
    "scrolled": true
   },
   "outputs": [],
   "source": [
    "#!pip3 install transformers requests beautifulsoup4 numpy pandas"
   ]
  },
  {
   "cell_type": "code",
   "execution_count": null,
   "id": "b0685d72",
   "metadata": {
    "is_executing": true
   },
   "outputs": [],
   "source": [
    "from transformers import AutoTokenizer , AutoModelForSequenceClassification\n",
    "from bs4 import BeautifulSoup\n",
    "import re\n",
    "import requests\n",
    "import torch\n",
    "import pandas as pd\n",
    "import numpy as np"
   ]
  },
  {
   "cell_type": "markdown",
   "id": "8d1e3a96",
   "metadata": {},
   "source": [
    "# instantiating the model"
   ]
  },
  {
   "cell_type": "code",
   "execution_count": 16,
   "id": "dbc25b30",
   "metadata": {},
   "outputs": [],
   "source": [
    "tokenization_tool = AutoTokenizer.from_pretrained(\"nlptown/bert-base-multilingual-uncased-sentiment\")\n",
    "model = AutoModelForSequenceClassification.from_pretrained(\"nlptown/bert-base-multilingual-uncased-sentiment\")"
   ]
  },
  {
   "cell_type": "code",
   "execution_count": 42,
   "id": "a5d30010",
   "metadata": {},
   "outputs": [],
   "source": [
    "tokens = tokenization_tool.encode('I ll become a data scientist or machine learning engineer soon ', return_tensors='pt')\n",
    "result = model(tokens)"
   ]
  },
  {
   "cell_type": "code",
   "execution_count": 43,
   "id": "e5bd1d21",
   "metadata": {
    "scrolled": true
   },
   "outputs": [
    {
     "data": {
      "text/plain": [
       "5"
      ]
     },
     "execution_count": 43,
     "metadata": {},
     "output_type": "execute_result"
    }
   ],
   "source": [
    "int(torch.argmax(result.logits))+1"
   ]
  },
  {
   "cell_type": "markdown",
   "id": "644c937e",
   "metadata": {},
   "source": [
    "### Now some scraping : i ll scrape data(reviews about Dishoom restaurant in London) from yelp.com"
   ]
  },
  {
   "cell_type": "code",
   "execution_count": 54,
   "id": "9cbf7e23",
   "metadata": {},
   "outputs": [],
   "source": [
    "req = requests.get(\"https://www.yelp.com/biz/dishoom-london?osq=Restaurants\")\n",
    "soup = BeautifulSoup(req.text,\"html.parser\")\n",
    "regex = re.compile('.*comment.*')\n",
    "results = soup.find_all('p', {'class':regex})\n",
    "reviews = [result.text for result in results]"
   ]
  },
  {
   "cell_type": "code",
   "execution_count": 61,
   "id": "0dda228e",
   "metadata": {},
   "outputs": [
    {
     "data": {
      "text/plain": [
       "\"This was a total hit. We made a reservation for lunch which I highly recommend because this place had a line out the door despite not even being open when we arrived. It's so cutely decorated. Tons of nods to the original Cafe Britannia in Bombay and overall seems to serve as a beautiful homage to India/Bombay. The food itself is incredible. Chili cheese toast was authentic. Pau bhaji and chicken were sumptuous and delicious. This place is heavy and will fill you up so come hungry.\""
      ]
     },
     "execution_count": 61,
     "metadata": {},
     "output_type": "execute_result"
    }
   ],
   "source": [
    "reviews[0]"
   ]
  },
  {
   "cell_type": "markdown",
   "id": "889b514e",
   "metadata": {},
   "source": [
    "### Loadind reviews into a DataFrame"
   ]
  },
  {
   "cell_type": "code",
   "execution_count": 67,
   "id": "efd18994",
   "metadata": {},
   "outputs": [],
   "source": [
    "df = pd.DataFrame(np.array(reviews),columns=[\"reviews about Dishoom\"])"
   ]
  },
  {
   "cell_type": "code",
   "execution_count": 71,
   "id": "44c636c3",
   "metadata": {},
   "outputs": [
    {
     "data": {
      "text/plain": [
       "\"This was a total hit. We made a reservation for lunch which I highly recommend because this place had a line out the door despite not even being open when we arrived. It's so cutely decorated. Tons of nods to the original Cafe Britannia in Bombay and overall seems to serve as a beautiful homage to India/Bombay. The food itself is incredible. Chili cheese toast was authentic. Pau bhaji and chicken were sumptuous and delicious. This place is heavy and will fill you up so come hungry.\""
      ]
     },
     "execution_count": 71,
     "metadata": {},
     "output_type": "execute_result"
    }
   ],
   "source": [
    "df[\"reviews about Dishoom\"].iloc[0]"
   ]
  },
  {
   "cell_type": "code",
   "execution_count": 73,
   "id": "e2fcebd1",
   "metadata": {},
   "outputs": [],
   "source": [
    "#this a function that returns the score (from 1 to 5) about the review given.\n",
    "def sentiment_score(review):\n",
    "\n",
    "    tokens = tokenization_tool.encode(review , return_tensors='pt')\n",
    "    result = model(tokens)\n",
    "    return int(torch.argmax(result.logits))+1"
   ]
  },
  {
   "cell_type": "code",
   "execution_count": 74,
   "id": "c160db5a",
   "metadata": {},
   "outputs": [
    {
     "data": {
      "text/plain": [
       "5"
      ]
     },
     "execution_count": 74,
     "metadata": {},
     "output_type": "execute_result"
    }
   ],
   "source": [
    "sentiment_score(df[\"reviews about Dishoom\"].iloc[0])"
   ]
  },
  {
   "cell_type": "code",
   "execution_count": 76,
   "id": "19270dd4",
   "metadata": {},
   "outputs": [],
   "source": [
    "df[\"sentiments\"] = df[\"reviews about Dishoom\"].apply(lambda x : sentiment_score(x))"
   ]
  },
  {
   "cell_type": "code",
   "execution_count": 80,
   "id": "9574d934",
   "metadata": {},
   "outputs": [
    {
     "data": {
      "text/html": [
       "<div>\n",
       "<style scoped>\n",
       "    .dataframe tbody tr th:only-of-type {\n",
       "        vertical-align: middle;\n",
       "    }\n",
       "\n",
       "    .dataframe tbody tr th {\n",
       "        vertical-align: top;\n",
       "    }\n",
       "\n",
       "    .dataframe thead th {\n",
       "        text-align: right;\n",
       "    }\n",
       "</style>\n",
       "<table border=\"1\" class=\"dataframe\">\n",
       "  <thead>\n",
       "    <tr style=\"text-align: right;\">\n",
       "      <th></th>\n",
       "      <th>reviews about Dishoom</th>\n",
       "      <th>sentiments</th>\n",
       "    </tr>\n",
       "  </thead>\n",
       "  <tbody>\n",
       "    <tr>\n",
       "      <th>0</th>\n",
       "      <td>This was a total hit. We made a reservation fo...</td>\n",
       "      <td>5</td>\n",
       "    </tr>\n",
       "    <tr>\n",
       "      <th>1</th>\n",
       "      <td>Dined here on my first day in London. This cam...</td>\n",
       "      <td>5</td>\n",
       "    </tr>\n",
       "    <tr>\n",
       "      <th>2</th>\n",
       "      <td>Went here entirely based on the Yelp reviews, ...</td>\n",
       "      <td>5</td>\n",
       "    </tr>\n",
       "    <tr>\n",
       "      <th>3</th>\n",
       "      <td>Dishoom has always been one of my favorites an...</td>\n",
       "      <td>5</td>\n",
       "    </tr>\n",
       "    <tr>\n",
       "      <th>4</th>\n",
       "      <td>Have only been here for brunch so that's what ...</td>\n",
       "      <td>3</td>\n",
       "    </tr>\n",
       "    <tr>\n",
       "      <th>5</th>\n",
       "      <td>Came around 6:30 on a Thursday and it took aro...</td>\n",
       "      <td>4</td>\n",
       "    </tr>\n",
       "    <tr>\n",
       "      <th>6</th>\n",
       "      <td>My 10 year old has declared this the best meal...</td>\n",
       "      <td>5</td>\n",
       "    </tr>\n",
       "    <tr>\n",
       "      <th>7</th>\n",
       "      <td>Greeted outside with a warm chai while waiting...</td>\n",
       "      <td>4</td>\n",
       "    </tr>\n",
       "    <tr>\n",
       "      <th>8</th>\n",
       "      <td>I've heard so many good things about Dishoom, ...</td>\n",
       "      <td>4</td>\n",
       "    </tr>\n",
       "    <tr>\n",
       "      <th>9</th>\n",
       "      <td>TLDR: Great atmosphere for a visitor, good foo...</td>\n",
       "      <td>5</td>\n",
       "    </tr>\n",
       "  </tbody>\n",
       "</table>\n",
       "</div>"
      ],
      "text/plain": [
       "                               reviews about Dishoom  sentiments\n",
       "0  This was a total hit. We made a reservation fo...           5\n",
       "1  Dined here on my first day in London. This cam...           5\n",
       "2  Went here entirely based on the Yelp reviews, ...           5\n",
       "3  Dishoom has always been one of my favorites an...           5\n",
       "4  Have only been here for brunch so that's what ...           3\n",
       "5  Came around 6:30 on a Thursday and it took aro...           4\n",
       "6  My 10 year old has declared this the best meal...           5\n",
       "7  Greeted outside with a warm chai while waiting...           4\n",
       "8  I've heard so many good things about Dishoom, ...           4\n",
       "9  TLDR: Great atmosphere for a visitor, good foo...           5"
      ]
     },
     "execution_count": 80,
     "metadata": {},
     "output_type": "execute_result"
    }
   ],
   "source": [
    "df"
   ]
  },
  {
   "cell_type": "code",
   "execution_count": null,
   "id": "63376826",
   "metadata": {},
   "outputs": [],
   "source": []
  }
 ],
 "metadata": {
  "kernelspec": {
   "display_name": "Python 3 (ipykernel)",
   "language": "python",
   "name": "python3"
  },
  "language_info": {
   "codemirror_mode": {
    "name": "ipython",
    "version": 3
   },
   "file_extension": ".py",
   "mimetype": "text/x-python",
   "name": "python",
   "nbconvert_exporter": "python",
   "pygments_lexer": "ipython3",
   "version": "3.9.10"
  }
 },
 "nbformat": 4,
 "nbformat_minor": 5
}
